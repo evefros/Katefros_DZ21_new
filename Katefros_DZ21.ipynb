{
 "cells": [
  {
   "cell_type": "markdown",
   "metadata": {},
   "source": [
    "### Задание 1  \n",
    "Создайте numpy array с элементами от числа N до 0 (например, для N = 10 это будет array([9, 8, 7, 6, 5, 4, 3, 2, 1, 0]))."
   ]
  },
  {
   "cell_type": "code",
   "execution_count": 1,
   "metadata": {
    "scrolled": true
   },
   "outputs": [
    {
     "data": {
      "text/plain": [
       "array([14, 13, 12, 11, 10,  9,  8,  7,  6,  5,  4,  3,  2,  1,  0])"
      ]
     },
     "execution_count": 1,
     "metadata": {},
     "output_type": "execute_result"
    }
   ],
   "source": [
    "import numpy as np\n",
    "\n",
    "N = 15\n",
    "a = np.array(sorted(range(N), reverse = True))\n",
    "a"
   ]
  },
  {
   "cell_type": "markdown",
   "metadata": {},
   "source": [
    "### Задание 2  \n",
    "Создайте диагональную матрицу с элементами от N до 0. Посчитайте сумму ее значений на диагонали."
   ]
  },
  {
   "cell_type": "code",
   "execution_count": 2,
   "metadata": {},
   "outputs": [
    {
     "name": "stdout",
     "output_type": "stream",
     "text": [
      "[[9 0 0 0 0 0 0 0 0 0]\n",
      " [0 8 0 0 0 0 0 0 0 0]\n",
      " [0 0 7 0 0 0 0 0 0 0]\n",
      " [0 0 0 6 0 0 0 0 0 0]\n",
      " [0 0 0 0 5 0 0 0 0 0]\n",
      " [0 0 0 0 0 4 0 0 0 0]\n",
      " [0 0 0 0 0 0 3 0 0 0]\n",
      " [0 0 0 0 0 0 0 2 0 0]\n",
      " [0 0 0 0 0 0 0 0 1 0]\n",
      " [0 0 0 0 0 0 0 0 0 0]]\n",
      "Сумма по диагонали 45\n"
     ]
    }
   ],
   "source": [
    "N = 10\n",
    "b = np.diag(np.array(sorted(range(N), reverse = True)), k = 0)\n",
    "print(b)\n",
    "\n",
    "all_num = b.ravel()\n",
    "print(f'Сумма по диагонали {np.sum(all_num)}')"
   ]
  },
  {
   "cell_type": "markdown",
   "metadata": {},
   "source": [
    "#### Задание 3\n",
    "Решите систему уравнений:\n",
    "4x + 2y + z = 4\n",
    "x + 3y = 12\n",
    "5y + 4z = -3"
   ]
  },
  {
   "cell_type": "code",
   "execution_count": 3,
   "metadata": {},
   "outputs": [
    {
     "data": {
      "text/plain": [
       "array([ 0.46666667,  3.84444444, -5.55555556])"
      ]
     },
     "execution_count": 3,
     "metadata": {},
     "output_type": "execute_result"
    }
   ],
   "source": [
    "from numpy import linalg\n",
    "a = np.array([[4, 2, 1], [1, 3, 0], [0, 5, 4]])\n",
    "b = np.array([4, 12, -3])\n",
    "\n",
    "linalg.solve(a, b)"
   ]
  },
  {
   "cell_type": "markdown",
   "metadata": {},
   "source": [
    "#### Задание 4\n",
    "В материалах занятия раздел “Задача 4 домашнего задания”\n",
    "Найдите самого похожего пользователя. \n",
    "Т. е. посчитайте косинусное сходство между этим пользователем и всеми пользователями из массива user_stats"
   ]
  },
  {
   "cell_type": "code",
   "execution_count": 4,
   "metadata": {},
   "outputs": [
    {
     "name": "stdout",
     "output_type": "stream",
     "text": [
      "0.2\n",
      "0.85\n",
      "0.4\n",
      "0.79\n",
      "0.4\n",
      "0.0\n",
      "0.0\n",
      "0.27\n",
      "0.0\n",
      "\n",
      "Самый похожий пользователь - 2\n"
     ]
    }
   ],
   "source": [
    "user_stats = np.array([\n",
    "    [2, 1, 0, 0, 0, 0],\n",
    "    [1, 1, 2, 1, 0, 0],\n",
    "    [2, 0, 1, 0, 0, 0],\n",
    "    [1, 1, 2, 1, 0, 1],\n",
    "    [0, 0, 1, 2, 0, 0],\n",
    "    [0, 0, 0, 0, 0, 5],\n",
    "    [1, 0, 0, 0, 0, 0],\n",
    "    [0, 0, 1, 1, 3, 0],\n",
    "    [1, 0, 0, 2, 1, 4]\n",
    "])\n",
    "\n",
    "next_user = np.array([0, 1, 2, 0, 0, 0])\n",
    "next_user_length = np.linalg.norm(next_user)\n",
    "all_cosine = []\n",
    "\n",
    "for i in user_stats:\n",
    "    user_of_stats_length = np.linalg.norm(i)\n",
    "    cosine = np.dot(i, next_user) / (next_user_length * user_of_stats_length)\n",
    "    print(cosine.round(2))\n",
    "    all_cosine.append(cosine)\n",
    "    result = all_cosine.index(max(all_cosine)) + 1\n",
    "\n",
    "print()\n",
    "print(f'Самый похожий пользователь - {result}')"
   ]
  },
  {
   "cell_type": "code",
   "execution_count": null,
   "metadata": {},
   "outputs": [],
   "source": []
  }
 ],
 "metadata": {
  "kernelspec": {
   "display_name": "Python 3",
   "language": "python",
   "name": "python3"
  },
  "language_info": {
   "codemirror_mode": {
    "name": "ipython",
    "version": 3
   },
   "file_extension": ".py",
   "mimetype": "text/x-python",
   "name": "python",
   "nbconvert_exporter": "python",
   "pygments_lexer": "ipython3",
   "version": "3.8.5"
  }
 },
 "nbformat": 4,
 "nbformat_minor": 4
}
